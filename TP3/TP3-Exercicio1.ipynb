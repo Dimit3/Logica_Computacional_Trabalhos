{
 "cells": [
  {
   "cell_type": "markdown",
   "metadata": {},
   "source": [
    "<h2>Trabalho Realizado Por:</h2>\n",
    "<br>\n",
    "Carlos Ferreira - a87953\n",
    "<br>\n",
    "Daniel Ribeiro - a87994\n",
    "\n",
    "<h2>Exercício 1</h2>\n",
    "\n",
    "O seguinte sistema dinâmico denota 4 inversores ($\\,A, B, C, D\\,$) que lêm um bit num canal input e escrevem num canal output uma transformação desse bit.\n",
    "\n",
    "<img src=\"sistema.png\" width=\"500\"/>\n",
    "\n",
    "\n",
    "\n",
    "i. Cada inversor tem um bit $s$ de estado, inicializado  com um valor aleatório.\n",
    "<br>\n",
    "ii. Cada inversor é regido pelas seguintes transformações\n",
    "\n",
    "$$\\mathbf{invert}\\mathtt(in,out)$$\n",
    "$$x \\gets \\mathsf{read}(\\mathtt{in})$$ \n",
    "$$s \\gets \\neg x\\;\\;\\|\\;\\; s\\gets s$$               \n",
    "$$\\mathsf{write}(\\mathtt{out},s)$$\n",
    "                       \n",
    "iii. O sistema termina quando todos os inversores tiverem o estado $\\,s=0\\,$.\n"
   ]
  },
  {
   "cell_type": "markdown",
   "metadata": {},
   "source": [
    "a. Construa um FOTS que descreva este sistema e implemente este sistema, numa abordagem BMC (“bouded model checker”) num traço com $\\,n\\,$ estados.\n",
    "<br>\n",
    "<br>\n",
    "O estado do FOTS respectivo será 4 Ints onde cada um represesenta o estado de cada inversor e o $\\mathit{pc}$ (o *program counter* que neste caso pode ser 0, 1 ou 2).\n",
    "\n",
    "pc ->  0 : while ( condição )\n",
    "\n",
    "      1 : transformações\n",
    "      \n",
    "      2 : stop\n",
    "<br>\n",
    "<br>\n",
    "O estado inicial é caracterizado pelo seguinte predicado, onde o program counter começa a 0, e os valores dos estados dos inversores ou vão ser inicializados com 1 ou 0:\n",
    "<br>\n",
    "$$\n",
    "\\mathit{pc} = 0 \\wedge (S_{i} = 0 \\vee S_{i} = 1) \\quad \\forall i \\in (A,B,C,D)\n",
    "$$\n",
    "\n",
    "<br>\n",
    "As possíveis transições do FOTS serão assim:\n",
    "\n",
    "$$\n",
    "\\begin{array}{c}\n",
    "t_{1} = (\\mathit{pc} = 0 \\wedge \\neg( S_{i} = 0 \\quad \\forall i \\in (A,B,C,D)) \\wedge \\mathit{pc'} = 1  \\wedge S'_{i} = S_{i} \\quad \\forall i \\in (A,B,C,D))\\\\\n",
    "\\vee\\\\\n",
    "t_{2} = (\\mathit{pc} = 0 \\wedge S_{i} = 0 \\quad \\forall i \\in (A,B,C,D) \\wedge \\mathit{pc'} = 2  \\wedge S'_{i} = S_{i} \\quad \\forall i \\in (A,B,C,D))\\\\\n",
    "\\vee\\\\\n",
    "t_{3} = (\\mathit{pc} = 1 \\wedge \\mathit{pc'} = 0 \\wedge (S'_{A} = S_{A} \\vee S'_{A} = \\neg S_{C}) \\wedge (S'_{B} = S_{B} \\vee S'_{B} = \\neg S'_{A}) \\wedge (S'_{D} = S_{D} \\vee (S'_{D} = \\neg S'_{B}) \\wedge (S'_{C} = S_{C} \\vee S'_{C} = \\neg S'_{D})) \\\\\n",
    "\\vee\\\\\n",
    "t_{4} = (\\mathit{pc} = 2 \\wedge \\mathit{pc'} = 2 \\wedge S'_{i} = S_{i} \\quad \\forall i \\in (A,B,C,D)) \\\\\n",
    "\\end{array}\n",
    "$$"
   ]
  },
  {
   "cell_type": "markdown",
   "metadata": {},
   "source": [
    "Explicação das transições:\n",
    "\n",
    "t1: Se o pc estiver a 0, e os estados dos inversores não forem todos 0, então incrementamos o pc para 1 e os valores dos estados dos inversores permanecem iguais.\n",
    "\n",
    "t2: Se o pc estiver a 0, e os estados dos inversores estiverem todos a 0, então o pc passa a 2 e os valores dos estados dos inversores permanecem iguais.\n",
    "\n",
    "t3: Se o pc estiver a 1, aplicamos as transições começando pelo estado s do inversor A, este novo estado s' terá o valor de s ou será a negação do valor que está no canal in do inversor A. Depois alterámos o valor dos inversores B,D e C por essa ordem.\n",
    "\n",
    "t4: Se o pc estiver a 2 então permanecerá a 2 e os valores dos estados dos inversores permanecem iguais."
   ]
  },
  {
   "cell_type": "markdown",
   "metadata": {},
   "source": [
    "Como não podemos utilizar $\\neg$ (Not) para Int , utilizamos a seguinte fórmula matemática que reproduz o mesmo efeito:\n",
    "\n",
    "        f(x) = ( x + 1 ) % 2\n",
    "        \n",
    "        f(1) = 0\n",
    "        \n",
    "        f(0) = 1"
   ]
  },
  {
   "cell_type": "code",
   "execution_count": 10,
   "metadata": {},
   "outputs": [],
   "source": [
    "from z3 import *\n",
    "import random\n",
    "\n",
    "\n",
    "def declare(i):\n",
    "    state = {}\n",
    "    state['pc'] = Int('pc'+str(i))\n",
    "    state['s_A'] = Int('s_A'+str(i))\n",
    "    state['s_B'] = Int('s_B'+str(i))\n",
    "    state['s_C'] = Int('s_C'+str(i))\n",
    "    state['s_D'] = Int('s_D'+str(i))\n",
    "    return state"
   ]
  },
  {
   "cell_type": "markdown",
   "metadata": {},
   "source": [
    "Inicialização do estado com 'program counter' a 0 , e os quatro estados dos inversores A, B, C e D vão ser inicializados com\n",
    "um bit random."
   ]
  },
  {
   "cell_type": "code",
   "execution_count": 11,
   "metadata": {},
   "outputs": [],
   "source": [
    "def init(state):\n",
    "    return And(state['pc']==0,state['s_A'] == random.getrandbits(1),state['s_B'] == random.getrandbits(1)\n",
    "                             ,state['s_C'] == random.getrandbits(1),state['s_D'] == random.getrandbits(1))"
   ]
  },
  {
   "cell_type": "markdown",
   "metadata": {},
   "source": [
    "Definição das 4 transições do FOTS"
   ]
  },
  {
   "cell_type": "code",
   "execution_count": 12,
   "metadata": {},
   "outputs": [],
   "source": [
    "def trans(curr,prox):\n",
    "       \n",
    "    \n",
    "    t1 = And(curr['pc']== 0, prox['pc']==1, Not ( And (curr['s_A'] == 0, curr['s_B'] == 0, curr['s_C'] == 0, curr['s_D'] == 0)), \n",
    "                                         prox['s_A'] == curr['s_A'], prox['s_B'] == curr['s_B'], prox['s_C'] == curr['s_C'], prox['s_D'] == curr['s_D'])\n",
    "    \n",
    "    t2 = And(curr['pc']==0, prox['pc']==2, curr['s_A'] == 0, curr['s_B'] == 0, curr['s_C'] == 0, curr['s_D'] == 0, \n",
    "                                         prox['s_A'] == curr['s_A'], prox['s_B'] == curr['s_B'], prox['s_C'] == curr['s_C'], prox['s_D'] == curr['s_D'])\n",
    "    \n",
    "    \n",
    "    t3 = And(curr['pc']==1, prox['pc']==0, Or(prox['s_A']==curr['s_A'], prox['s_A'] == (curr['s_C'] + 1) % 2), \n",
    "                                         Or(prox['s_B']==curr['s_B'], prox['s_B'] == (prox['s_A'] + 1) % 2), \n",
    "                                         Or(prox['s_D']==curr['s_D'], prox['s_D'] == (prox['s_B'] + 1) % 2),\n",
    "                                         Or(prox['s_C']==curr['s_C'], prox['s_C'] == (prox['s_D'] + 1) % 2))       \n",
    "    \n",
    "    t4 = And(curr['pc']==2, prox['pc']==2,  prox['s_A'] == curr['s_A'], prox['s_B'] == curr['s_B'], prox['s_C'] == curr['s_C'], prox['s_D'] == curr['s_D'])\n",
    "\n",
    "    return Or(t1,t2,t3,t4)"
   ]
  },
  {
   "cell_type": "markdown",
   "metadata": {},
   "source": [
    "Geração do traço com k estados"
   ]
  },
  {
   "cell_type": "code",
   "execution_count": 13,
   "metadata": {},
   "outputs": [],
   "source": [
    "def gera_traco(declare,init,trans,k):\n",
    "    s = Solver()\n",
    "    state =[declare(i) for i in range(k)]\n",
    "    s.add(init(state[0]))\n",
    "    for i in range(k-1):\n",
    "        s.add(trans(state[i],state[i+1]))\n",
    "    if s.check()==sat:\n",
    "        m=s.model()\n",
    "        for i in range(k):\n",
    "            print('\\nestado: ' , i)\n",
    "            for x in state[i]:\n",
    "                print(x,\"=\",m[state[i][x]])\n",
    "        "
   ]
  },
  {
   "cell_type": "markdown",
   "metadata": {},
   "source": [
    "Escolha aleatória do número de estados do traço a ser construído ( k )"
   ]
  },
  {
   "cell_type": "code",
   "execution_count": 14,
   "metadata": {
    "scrolled": false
   },
   "outputs": [
    {
     "name": "stdout",
     "output_type": "stream",
     "text": [
      "k =  2\n",
      "\n",
      "estado:  0\n",
      "pc = 0\n",
      "s_A = 1\n",
      "s_B = 0\n",
      "s_C = 1\n",
      "s_D = 1\n",
      "\n",
      "estado:  1\n",
      "pc = 1\n",
      "s_A = 1\n",
      "s_B = 0\n",
      "s_C = 1\n",
      "s_D = 1\n"
     ]
    }
   ],
   "source": [
    "k = random.randint(1,10)\n",
    "print ( 'k = ' , k)\n",
    "gera_traco(declare,init,trans,k)"
   ]
  },
  {
   "cell_type": "markdown",
   "metadata": {},
   "source": [
    "c. Explore as técnicas que estudou para verificar em que condições o sistema termina.\n",
    "\n",
    "\n",
    "Propriedade da terminação do sistema"
   ]
  },
  {
   "cell_type": "code",
   "execution_count": 15,
   "metadata": {},
   "outputs": [],
   "source": [
    "def termina(state):\n",
    "    return (state['pc'] == 2)"
   ]
  },
  {
   "cell_type": "markdown",
   "metadata": {},
   "source": [
    "Encontrar em que condições o sistema termina F(pc = 2)"
   ]
  },
  {
   "cell_type": "code",
   "execution_count": 16,
   "metadata": {
    "scrolled": false
   },
   "outputs": [
    {
     "name": "stdout",
     "output_type": "stream",
     "text": [
      "Exemplo 1\n",
      "\n",
      "Exemplo 2\n",
      "0\n",
      "pc = 0\n",
      "s_A = 0\n",
      "s_B = 0\n",
      "s_C = 0\n",
      "s_D = 0\n",
      "1\n",
      "pc = 2\n",
      "s_A = 0\n",
      "s_B = 0\n",
      "s_C = 0\n",
      "s_D = 0\n",
      "2\n",
      "pc = 2\n",
      "s_A = 0\n",
      "s_B = 0\n",
      "s_C = 0\n",
      "s_D = 0\n",
      "3\n",
      "pc = 2\n",
      "s_A = 0\n",
      "s_B = 0\n",
      "s_C = 0\n",
      "s_D = 0\n",
      "4\n",
      "pc = 2\n",
      "s_A = 0\n",
      "s_B = 0\n",
      "s_C = 0\n",
      "s_D = 0\n",
      "5\n",
      "pc = 2\n",
      "s_A = 0\n",
      "s_B = 0\n",
      "s_C = 0\n",
      "s_D = 0\n",
      "6\n",
      "pc = 2\n",
      "s_A = 0\n",
      "s_B = 0\n",
      "s_C = 0\n",
      "s_D = 0\n",
      "7\n",
      "pc = 2\n",
      "s_A = 0\n",
      "s_B = 0\n",
      "s_C = 0\n",
      "s_D = 0\n",
      "8\n",
      "pc = 2\n",
      "s_A = 0\n",
      "s_B = 0\n",
      "s_C = 0\n",
      "s_D = 0\n",
      "9\n",
      "pc = 2\n",
      "s_A = 0\n",
      "s_B = 0\n",
      "s_C = 0\n",
      "s_D = 0\n",
      "10\n",
      "pc = 2\n",
      "s_A = 0\n",
      "s_B = 0\n",
      "s_C = 0\n",
      "s_D = 0\n",
      "11\n",
      "pc = 2\n",
      "s_A = 0\n",
      "s_B = 0\n",
      "s_C = 0\n",
      "s_D = 0\n",
      "12\n",
      "pc = 2\n",
      "s_A = 0\n",
      "s_B = 0\n",
      "s_C = 0\n",
      "s_D = 0\n",
      "13\n",
      "pc = 2\n",
      "s_A = 0\n",
      "s_B = 0\n",
      "s_C = 0\n",
      "s_D = 0\n",
      "14\n",
      "pc = 2\n",
      "s_A = 0\n",
      "s_B = 0\n",
      "s_C = 0\n",
      "s_D = 0\n",
      "\n",
      "Exemplo 3\n"
     ]
    }
   ],
   "source": [
    "def bmc_eventually(declare,init,trans,prop,bound):\n",
    "    r = []\n",
    "    \n",
    "    for k in range(1,bound+1):\n",
    "        \n",
    "        s = Solver()\n",
    "        state =[declare(i) for i in range(k)]\n",
    "        s.add(init(state[0]))\n",
    "        \n",
    "        for i in range(k-1):\n",
    "            s.add(trans(state[i],state[i+1]))\n",
    "            \n",
    "        s.add(prop(state[k-1]))\n",
    "        \n",
    "        \n",
    "        if s.check()==sat:\n",
    "            \n",
    "            m = s.model()\n",
    "            \n",
    "            for i in range(k):\n",
    "                print(i)\n",
    "                for x in state[i]:\n",
    "                    print(x,\"=\",m[state[i][x]])\n",
    "                \n",
    "            return\n",
    "    \n",
    "    \n",
    "print ('Exemplo 1')\n",
    "bmc_eventually(declare,init,trans,termina,20)\n",
    "print ('\\nExemplo 2')\n",
    "bmc_eventually(declare,init,trans,termina,20)\n",
    "print ('\\nExemplo 3')\n",
    "bmc_eventually(declare,init,trans,termina,20)"
   ]
  },
  {
   "cell_type": "markdown",
   "metadata": {},
   "source": [
    "As condições necessárias para que o sistema termine é os valores dos estados dos inversores no estado inicial serem todos 0, caso contrário nunca vai ser possível colocar todos os quatro valores a 0.\n",
    "\n",
    "Se pensarmos no estado mais próximo do estado final do sistema, ou seja, apenas um estado de um inversor ser 1 e os três restantes a 0, será impossível transformar esse 1 em 0 pois esse valor ou vai permencer 1 ou vai ser a negação do valor que vem pelo canal in do inversor que será um 0 logo a negação de 0 vai ser 1, por isso o valor do estado desse inversor vai permancer 1 não interessa qual a escolha."
   ]
  },
  {
   "cell_type": "code",
   "execution_count": null,
   "metadata": {},
   "outputs": [],
   "source": []
  }
 ],
 "metadata": {
  "kernelspec": {
   "display_name": "Python 3",
   "language": "python",
   "name": "python3"
  },
  "language_info": {
   "codemirror_mode": {
    "name": "ipython",
    "version": 3
   },
   "file_extension": ".py",
   "mimetype": "text/x-python",
   "name": "python",
   "nbconvert_exporter": "python",
   "pygments_lexer": "ipython3",
   "version": "3.8.3"
  }
 },
 "nbformat": 4,
 "nbformat_minor": 4
}
