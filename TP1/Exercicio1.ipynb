{
 "cells": [
  {
   "cell_type": "markdown",
   "metadata": {},
   "source": [
    "<h2>Trabalho Realizado Por:</h2>\n",
    "<br>\n",
    "Carlos Ferreira - a87953\n",
    "<br>\n",
    "Daniel Ribeiro - a87994\n",
    "\n",
    "<h2>Exercício 1</h2>\n",
    "\n",
    "1. Pretende-se construir um horário semanal para o plano de reuniões de projeto de uma “StartUp” de acordo com as seguintes condições:\n",
    "    \n",
    "    1. Cada reunião ocupa uma sala (enumeradas $1...S\\,$) durante um “slot” $(\\text{tempo},\\text{dia})$.  Assume-se os dias enumerados $1..D$ e, em cada dia, os tempos enumerados $1..T$.\n",
    "    \n",
    "    2.  Cada reunião tem associado um projeto (enumerados $1..P$) e um conjunto de participantes. Os diferentes colaboradores são enumerados $1..C$.\n",
    "    \n",
    "    3. Cada projeto tem associado um conjunto de colaboradores, dos quais um  é o líder. Cada projeto realiza um dado número de reuniões semanais. São “inputs” do problema o conjunto de colaboradores de cada projeto, o seu líder e o número de reuniões semanais.\n",
    "    \n",
    "    4. O líder do projeto participa em todas as reuniões do seu projeto; os restantes colaboradores podem ou não participar consoante a sua disponibilidade, num mínimo (“quorum”) de  $50\\%$ do total de colaboradores do projeto.  A disponibilidade de cada participante, incluindo o lider,  é um conjunto de “slots” (“inputs” do problema). \n",
    "    \n",
    "    \n",
    "<br>    \n",
    "\n",
    "A variável  \"o colaborador vai à reunião na sala s , no tempo t, no dia d , e trabalhará no projeto p\" vai ser representada da forma $$ 0 \\leq x_{s,t,d,p,c} \\leq 1 $$\n",
    "\n",
    "**Limitações** (que impõem limites máximos à alocação)\n",
    "\n",
    "1. Cada colaborador só estar em uma reunião de cada vez:\n",
    "\n",
    "$$\\forall_{d < D} \\cdot \\forall_{t < T} \\cdot \\forall_{c < C} \\sum_{s < S,\\,p < P} x_{s,t,d,p,c} = 1$$\n",
    "\n",
    "2. Não pode haver a mesma reunião ao mesmo tempo de projetos iguais em salas diferentes:\n",
    "\n",
    "$$\\forall_{p < P}  \\cdot  \\forall_{d < D} \\cdot  \\forall_{t < T} \\sum_{s < S,l < L} x_{s,t,d,p,l} = 1$$\n",
    "\n",
    "**Obrigações** (que impõem limites mínimos à alocação)\n",
    "\n",
    "1. Cada projeto realiza $n$ de reuniões semanais (como o lider está presente em todas, o lider tem que fazer $n$ reuniões semanais:\n",
    "\n",
    "$$\\forall_{p < P} \\cdot \\quad \\sum_{s < S,\\,t < T,\\,d < D,\\,l < L} x_{s,t,d,p,l} = N,\\ onde\\ l\\ é\\ o\\ líder\\ do\\ projeto\\ p $$\n",
    "<br>\n",
    "\n",
    "2. No mínimo 50% dos colaboradores têm de aparecer no projeto:\n",
    "\n",
    "\n",
    "$$\\forall_{d < D} \\cdot \\forall_{t < T} \\cdot \\forall_{s < S} \\cdot \\forall_{p < P} \\cdot \\quad \\sum_{c < C} x_{s,t,d,p,c} \\geq \\frac{C}{2}  + C\\ mod\\ 2\\ \\bigvee \\sum_{c < C} x_{s,t,d,p,c} = 0 $$\n",
    "\n",
    "3. O líder têm de aparecer em todas as reuniões do seu projeto (se um colaborador for a uma reunião o lider tem que estar la):\n",
    "\n",
    "$$\\forall_{s < S} \\cdot \\forall_{t < T} \\cdot \\forall_{d < D} \\cdot \\forall_{p < P} \\cdot \\forall_{c < C} \\quad ( x_{s,t,d,p,c} == 1 ) \\rightarrow (x_{s,t,d,p,l} == 1) $$ , com l o lider do projeto p\n",
    "\n",
    "4. Cada sala tem alocado no máximo um projeto de cada vez:\n",
    "\n",
    "$$\\forall_{d < D} \\cdot  \\forall_{t < T} \\cdot  \\forall_{s < S} \\sum_{p < P} x_{s,t,d,p,l} \\leq 1 $$ , com l o lider do projeto p\n",
    "\n",
    "<br>\n",
    "\n"
   ]
  },
  {
   "cell_type": "code",
   "execution_count": 46,
   "metadata": {},
   "outputs": [],
   "source": [
    "from z3 import *\n",
    "\n",
    "#Exemplo1\n",
    "#S,T,D,P,C = 2,2,2,2,4\n",
    "  \n",
    "#Exemplo2\n",
    "S,T,D,P,C = 0,0,0,0,0\n",
    "\n",
    "\n",
    "def constroiHorario(reunioesSemanais, colaboradoresProjeto, lider , disponibilidade):\n",
    "\n",
    "\n",
    "    \n",
    "    \n",
    "    horario = Solver()\n",
    "    X = {}\n",
    "    \n",
    "    for s in range(1,S+1):\n",
    "        for t in range(1,T+1):\n",
    "            for d in range(1,D+1):     \n",
    "                for p in range(1,P+1):\n",
    "                    for c in range(1,C+1):\n",
    "                        #Se pertencer ao projeto tem de estar presente ou não\n",
    "                        if c in colaboradoresProjeto[p]:\n",
    "                            X[s,t,d,p,c] = Int(str(s) + '_' + str(t) + '_' + str(d) + '_' + str(p) + '_' + str(c))\n",
    "                            horario.add (X[s,t,d,p,c] >= 0 , X[s,t,d,p,c] <=1)\n",
    "                        #Se não pertencer ao projeto não está presente\n",
    "                        else:\n",
    "                            X[s,t,d,p,c] = Int(str(s) + '_' + str(t) + '_' + str(d) + '_' + str(p) + '_' + str(c))\n",
    "                            horario.add (X[s,t,d,p,c] == 0)\n",
    "    \n",
    "    #print (X)\n",
    "    \n",
    "    # o colaborador não pode estar em mais que uma reuniao ao mesmo tempo (Limitação nº1)\n",
    "    \n",
    "    for t in range(1,T+1):\n",
    "        for d in range(1,D+1):\n",
    "            for c in range(1,C+1):\n",
    "                horario.add(Sum([X[s,t,d,p,c] for s in range(1,S+1) for p in range (1,P+1)]) <= 1 )\n",
    "\n",
    "    \n",
    "    \n",
    "    # Não pode haver a mesma reunião ao mesmo tempo de projetos iguais em salas diferentes (Limitacao nº2)               \n",
    "    # Não necessário pois como para todo tempo e dia , todo colaborador apenas pode estar numa sala e projeto ( limitação nº1),\n",
    "    # e como o lider participará em todas as reuniões de um projeto não será possível a ocurrência de reuniões do mesmo projeto\n",
    "    # em salas diferentes.\n",
    "    \n",
    "    '''for t in range(1,T+1):   \n",
    "        for d in range(1,D+1):\n",
    "            for p in range(1,P+1):     \n",
    "                horario.add(Sum([X[s,t,d,p,lider[p]] for s in range(1,S+1)]) <= 1)\n",
    "    '''\n",
    "    \n",
    "    # se o projeto necessita de n reunioes <=> o lider tem de ir a n reunioes desse projeto (Obrigação nº 1)\n",
    "    \n",
    "    for p in range(1,P+1):\n",
    "        horario.add(Sum([X[s,t,d,p,lider[p]] for s in range (1,S+1) for d in range (1,D+1) for t in range (1,T+1)]) == reunioesSemanais[p] )\n",
    "    \n",
    "    # cada reuniao necessita no minimo de 50% dos colaboradores do projeto (Obrigação nº2)\n",
    "    # Para toda sala , todo tempo , todo dia , todo projeto , se a soma dos colaboradores for 0 significa que não existirá reunião\n",
    "    # , caso contrário , esta soma terá de ser maior que 50% dos colaboradores , caso o número de colaboradores seja ímpar , juntamos\n",
    "    # o resto da divisão inteira de C por 2.\n",
    "    \n",
    "    for s in range(1,S+1):\n",
    "        for t in range(1,T+1):\n",
    "            for d in range(1,D+1):\n",
    "                for p in range(1,P+1):\n",
    "                    horario.add(Or(Sum([X[s,t,d,p,c] for c in colaboradoresProjeto[p] ]) == 0  , Sum([X[s,t,d,p,c] for c in colaboradoresProjeto[p] ]) >= ((len(colaboradoresProjeto[p])/2) + (len(colaboradoresProjeto[p])%2))))\n",
    "                    \n",
    "    \n",
    "    \n",
    "    # Se um colaborador vai, o lider tambem tem de ir (Obrigação nº 3)\n",
    "    \n",
    "    for s in range(1,S+1):\n",
    "        for t in range(1,T+1):       \n",
    "            for d in range(1,D+1):\n",
    "                for p in range(1,P+1):\n",
    "                    for c in range(1,C+1):\n",
    "                        # horario.add(X[s,t,d,p,c] - X[s,t,d,p,lider[p]] <= 0)\n",
    "                        horario.add(Implies(X[s,t,d,p,c]==1 ,X[s,t,d,p,lider[p]] ==1))\n",
    "        \n",
    "        \n",
    "    # Em cada sala para um determinado slot (tempo , dia) só decorre a reunião para no máximo 1 projeto (Obrigaçao nº4)\n",
    "    \n",
    "    for t in range(1,T+1):\n",
    "        for d in range(1,D+1):\n",
    "            for s in range(1,S+1):\n",
    "                    horario.add(Sum([X[s,t,d,p,lider[p]] for p in range(1,P+1)]) <= 1)\n",
    "    \n",
    "    \n",
    "    # nao disponivel <=> nao pode ir a reuniao (disponibilidade)\n",
    "    \n",
    "    for c in range(1,C+1):\n",
    "        for t in range(1,T+1):\n",
    "            for d in range(1,D+1):\n",
    "                if (t,d) not in disponibilidade[c]:\n",
    "                    horario.add(And([(X[s,t,d,p,c] == 0) for s in range (1,S+1) for p in range(1,P+1)]))\n",
    "    \n",
    "    \n",
    "    \n",
    "    \n",
    "    \n",
    "    #print(horario)\n",
    "    #print(\"S,D,T,P,C\")\n",
    "\n",
    "    \n",
    "    r = horario.check()\n",
    "    print(r)\n",
    "    \n",
    "    if r == sat:\n",
    "        m = horario.model()\n",
    "        #print(m.eval(Sum(list(X.values()))))\n",
    "        #print(m)\n",
    "        for d in range (1,D+1):\n",
    "            print (\"Dia\" , d,\":\")\n",
    "            for p in range (1,P+1):\n",
    "                for t in range (1,T+1):\n",
    "                    for s in range (1,S+1):\n",
    "                        for c in range (1,C+1):\n",
    "                            if m[X[s,t,d,p,c]] == 1:\n",
    "                                print (\"Projeto\",p,\"Tempo\",t,\"Sala\",s,\"Colaborador\",c)\n",
    "    \n",
    "\n",
    "\n"
   ]
  },
  {
   "cell_type": "markdown",
   "metadata": {},
   "source": [
    "<h1>Vamos fazer Testes a cada Restrição:</h1>\n",
    "\n",
    "**Limitação nº1:**\n",
    "Cada colaborador só pode trabalhar em um projeto de cada vez:\n"
   ]
  },
  {
   "cell_type": "code",
   "execution_count": 47,
   "metadata": {},
   "outputs": [
    {
     "name": "stdout",
     "output_type": "stream",
     "text": [
      "unsat\n"
     ]
    }
   ],
   "source": [
    "# 1 tempo , 1 dia , 2 projetos para o mesmo lider\n",
    "\n",
    "S,T,D,P,C = 1,1,1,2,1\n",
    "reunioesSemanais = {1:1,2:1}\n",
    "colaboradoresProjeto = {1:[1],2:[1]}\n",
    "lider = {1:1, 2:1}\n",
    "disponibilidade = {1:[(1,1)]}\n",
    "constroiHorario (reunioesSemanais, colaboradoresProjeto, lider , disponibilidade)\n"
   ]
  },
  {
   "cell_type": "markdown",
   "metadata": {},
   "source": [
    "**Limitação nº2:**\n",
    "A reunião do projeto não pode ocorrer em salas diferentes ao mesmo tempo."
   ]
  },
  {
   "cell_type": "code",
   "execution_count": 48,
   "metadata": {},
   "outputs": [
    {
     "name": "stdout",
     "output_type": "stream",
     "text": [
      "unsat\n"
     ]
    }
   ],
   "source": [
    "# 2 salas , 1 tempo , 1 dia , 1 projeto que necessita de 2 reunioes mas so existe um tempo logo deve dar unsat\n",
    "\n",
    "S,T,D,P,C = 2,1,1,1,1\n",
    "reunioesSemanais = {1:2}\n",
    "colaboradoresProjeto = {1:[1]}\n",
    "lider = {1:1}\n",
    "disponibilidade = {1:[(1,1)]}\n",
    "constroiHorario (reunioesSemanais, colaboradoresProjeto, lider , disponibilidade)\n"
   ]
  },
  {
   "cell_type": "markdown",
   "metadata": {},
   "source": [
    "**Obrigação nº1:**\n",
    "Cada projeto realiza  $𝑛$ de reuniões semanais (como o lider está presente em todas, o lider tem que fazer  𝑛  reuniões semanais):"
   ]
  },
  {
   "cell_type": "code",
   "execution_count": 49,
   "metadata": {},
   "outputs": [
    {
     "name": "stdout",
     "output_type": "stream",
     "text": [
      "unsat\n"
     ]
    }
   ],
   "source": [
    "# 3 reuniões semanais mas lider so esta disponivel para 2 , logo nao e possivel ocorrer as 3 reunões\n",
    "\n",
    "S,T,D,P,C = 1,2,1,1,1\n",
    "reunioesSemanais = {1:3}\n",
    "colaboradoresProjeto = {1:[1]}\n",
    "lider = {1:1}\n",
    "disponibilidade = {1:[(1,1),(2,1)]}\n",
    "constroiHorario (reunioesSemanais, colaboradoresProjeto, lider , disponibilidade)"
   ]
  },
  {
   "cell_type": "markdown",
   "metadata": {},
   "source": [
    "**Obrigação nº2:**\n",
    "No mínimo 50% dos colaboradores têm de aparecer no projeto:"
   ]
  },
  {
   "cell_type": "code",
   "execution_count": 50,
   "metadata": {},
   "outputs": [
    {
     "name": "stdout",
     "output_type": "stream",
     "text": [
      "unsat\n"
     ]
    }
   ],
   "source": [
    "# 3 colaboradores mas apenas o lider pode ir , no minimo tinham de ir 2 à reunião\n",
    "\n",
    "S,T,D,P,C = 1,1,1,1,3\n",
    "reunioesSemanais = {1:1}\n",
    "colaboradoresProjeto = {1:[1,2,3]}\n",
    "lider = {1:1}\n",
    "disponibilidade = {1:[(1,1)],2:[],3:[]}\n",
    "constroiHorario (reunioesSemanais, colaboradoresProjeto, lider , disponibilidade)"
   ]
  },
  {
   "cell_type": "code",
   "execution_count": 51,
   "metadata": {},
   "outputs": [
    {
     "name": "stdout",
     "output_type": "stream",
     "text": [
      "sat\n",
      "Dia 1 :\n",
      "Projeto 1 Tempo 2 Sala 1 Colaborador 1\n",
      "Projeto 1 Tempo 2 Sala 1 Colaborador 4\n",
      "Projeto 1 Tempo 2 Sala 1 Colaborador 5\n"
     ]
    }
   ],
   "source": [
    "S,T,D,P,C = 1,2,1,1,5\n",
    "reunioesSemanais = {1:1}\n",
    "colaboradoresProjeto = {1:[1,2,3,4,5]}\n",
    "lider = {1:1}\n",
    "disponibilidade = {1:[(1,1),(2,1)],2:[(1,1)],3:[],4:[(2,1)],5:[(2,1)]}\n",
    "constroiHorario (reunioesSemanais, colaboradoresProjeto, lider , disponibilidade)"
   ]
  },
  {
   "cell_type": "markdown",
   "metadata": {},
   "source": [
    "**Obrigação nº3:**\n",
    "O líder têm de aparecer em todas as reuniões do seu projeto:"
   ]
  },
  {
   "cell_type": "code",
   "execution_count": 52,
   "metadata": {},
   "outputs": [
    {
     "name": "stdout",
     "output_type": "stream",
     "text": [
      "unsat\n"
     ]
    }
   ],
   "source": [
    "S,T,D,P,C = 1,2,1,1,2\n",
    "reunioesSemanais = {1:2}\n",
    "colaboradoresProjeto = {1:[1,2]}\n",
    "lider = {1:1}\n",
    "disponibilidade = {1:[(1,1)],2:[(1,1),(2,1)]}\n",
    "constroiHorario (reunioesSemanais, colaboradoresProjeto, lider , disponibilidade)"
   ]
  },
  {
   "cell_type": "markdown",
   "metadata": {},
   "source": [
    "**Obrigação nº4:**\n",
    "Cada sala tem alocado no máximo um projeto de cada vez:"
   ]
  },
  {
   "cell_type": "code",
   "execution_count": 53,
   "metadata": {},
   "outputs": [
    {
     "name": "stdout",
     "output_type": "stream",
     "text": [
      "unsat\n"
     ]
    }
   ],
   "source": [
    "# 2 projetos , 1 sala , 1 tempo , 1 dia\n",
    "\n",
    "S,T,D,P,C = 1,1,1,2,2\n",
    "reunioesSemanais = {1:1,2:1}\n",
    "colaboradoresProjeto = {1:[1],2:[2]}\n",
    "lider = {1:1,2:2}\n",
    "disponibilidade = {1:[(1,1)],2:[(1,1)]}\n",
    "constroiHorario (reunioesSemanais, colaboradoresProjeto, lider , disponibilidade)"
   ]
  },
  {
   "cell_type": "markdown",
   "metadata": {},
   "source": [
    "<h1>Seguidamente alguns exemplos do bom funcionamento do nosso programa:</h1>\n",
    "\n",
    "**Exemplo 1:**"
   ]
  },
  {
   "cell_type": "code",
   "execution_count": 58,
   "metadata": {},
   "outputs": [
    {
     "name": "stdout",
     "output_type": "stream",
     "text": [
      "sat\n",
      "Dia 1 :\n",
      "Projeto 1 Tempo 1 Sala 1 Colaborador 1\n",
      "Projeto 1 Tempo 1 Sala 1 Colaborador 4\n",
      "Projeto 2 Tempo 1 Sala 2 Colaborador 5\n",
      "Projeto 2 Tempo 2 Sala 2 Colaborador 5\n",
      "Dia 2 :\n",
      "Projeto 2 Tempo 1 Sala 2 Colaborador 3\n",
      "Projeto 2 Tempo 1 Sala 2 Colaborador 5\n"
     ]
    }
   ],
   "source": [
    "S,T,D,P,C = 2,2,2,2,5\n",
    "reunioesSemanais = {1:1,2:3}\n",
    "colaboradoresProjeto = {1:[1,2,4,5] , 2:[3,5]}\n",
    "lider = {1:4,2:5}\n",
    "disponibilidade = {1: [(1,1)] , 2: [] , 3: [(1,2),(2,2)] , 4: [(1,1)] , 5: [(1,1),(2,1) ,(1,2),(2,2)]}\n",
    "constroiHorario (reunioesSemanais, colaboradoresProjeto, lider , disponibilidade)"
   ]
  },
  {
   "cell_type": "markdown",
   "metadata": {},
   "source": [
    "**Exemplo 2:**"
   ]
  },
  {
   "cell_type": "code",
   "execution_count": 54,
   "metadata": {},
   "outputs": [
    {
     "name": "stdout",
     "output_type": "stream",
     "text": [
      "sat\n",
      "Dia 1 :\n",
      "Projeto 1 Tempo 1 Sala 2 Colaborador 1\n",
      "Projeto 1 Tempo 1 Sala 2 Colaborador 8\n",
      "Projeto 2 Tempo 1 Sala 1 Colaborador 2\n",
      "Projeto 2 Tempo 3 Sala 1 Colaborador 2\n",
      "Projeto 2 Tempo 4 Sala 2 Colaborador 2\n",
      "Projeto 3 Tempo 3 Sala 2 Colaborador 3\n",
      "Projeto 4 Tempo 2 Sala 2 Colaborador 4\n",
      "Projeto 6 Tempo 2 Sala 1 Colaborador 5\n",
      "Projeto 6 Tempo 2 Sala 1 Colaborador 6\n",
      "Projeto 6 Tempo 2 Sala 1 Colaborador 8\n",
      "Projeto 6 Tempo 4 Sala 1 Colaborador 6\n",
      "Projeto 6 Tempo 4 Sala 1 Colaborador 8\n",
      "Dia 2 :\n",
      "Projeto 1 Tempo 2 Sala 2 Colaborador 1\n",
      "Projeto 1 Tempo 2 Sala 2 Colaborador 8\n",
      "Projeto 3 Tempo 3 Sala 2 Colaborador 3\n",
      "Projeto 3 Tempo 4 Sala 2 Colaborador 3\n",
      "Projeto 4 Tempo 1 Sala 1 Colaborador 4\n",
      "Projeto 5 Tempo 1 Sala 2 Colaborador 5\n",
      "Projeto 6 Tempo 2 Sala 1 Colaborador 5\n",
      "Projeto 6 Tempo 2 Sala 1 Colaborador 6\n",
      "Projeto 6 Tempo 3 Sala 1 Colaborador 5\n",
      "Projeto 6 Tempo 3 Sala 1 Colaborador 6\n",
      "Projeto 6 Tempo 3 Sala 1 Colaborador 8\n",
      "Projeto 6 Tempo 4 Sala 1 Colaborador 5\n",
      "Projeto 6 Tempo 4 Sala 1 Colaborador 6\n",
      "Dia 3 :\n",
      "Projeto 1 Tempo 2 Sala 2 Colaborador 1\n",
      "Projeto 1 Tempo 2 Sala 2 Colaborador 4\n",
      "Projeto 2 Tempo 4 Sala 2 Colaborador 2\n",
      "Projeto 3 Tempo 2 Sala 1 Colaborador 3\n",
      "Projeto 3 Tempo 3 Sala 2 Colaborador 3\n",
      "Projeto 4 Tempo 1 Sala 1 Colaborador 4\n",
      "Projeto 5 Tempo 1 Sala 2 Colaborador 5\n",
      "Projeto 6 Tempo 3 Sala 1 Colaborador 5\n",
      "Projeto 6 Tempo 3 Sala 1 Colaborador 6\n",
      "Projeto 6 Tempo 3 Sala 1 Colaborador 8\n",
      "Projeto 6 Tempo 4 Sala 1 Colaborador 5\n",
      "Projeto 6 Tempo 4 Sala 1 Colaborador 6\n",
      "Dia 4 :\n",
      "Projeto 1 Tempo 4 Sala 2 Colaborador 1\n",
      "Projeto 1 Tempo 4 Sala 2 Colaborador 8\n",
      "Projeto 2 Tempo 2 Sala 1 Colaborador 2\n",
      "Projeto 3 Tempo 3 Sala 2 Colaborador 3\n",
      "Projeto 3 Tempo 4 Sala 1 Colaborador 3\n",
      "Projeto 4 Tempo 1 Sala 1 Colaborador 4\n",
      "Projeto 4 Tempo 3 Sala 1 Colaborador 4\n",
      "Projeto 5 Tempo 1 Sala 2 Colaborador 5\n",
      "Projeto 5 Tempo 2 Sala 2 Colaborador 5\n",
      "Dia 5 :\n",
      "Projeto 2 Tempo 1 Sala 2 Colaborador 2\n",
      "Projeto 3 Tempo 2 Sala 2 Colaborador 3\n",
      "Projeto 3 Tempo 3 Sala 1 Colaborador 3\n",
      "Projeto 3 Tempo 4 Sala 2 Colaborador 3\n",
      "Projeto 5 Tempo 3 Sala 2 Colaborador 5\n",
      "Projeto 6 Tempo 1 Sala 1 Colaborador 6\n",
      "Projeto 6 Tempo 1 Sala 1 Colaborador 8\n",
      "Projeto 6 Tempo 2 Sala 1 Colaborador 5\n",
      "Projeto 6 Tempo 2 Sala 1 Colaborador 6\n",
      "Projeto 6 Tempo 2 Sala 1 Colaborador 8\n",
      "Projeto 6 Tempo 4 Sala 1 Colaborador 5\n",
      "Projeto 6 Tempo 4 Sala 1 Colaborador 6\n"
     ]
    }
   ],
   "source": [
    "S,T,D,P,C = 2,4,5,6,8\n",
    "#40 possiveis reunioes 2x4x5\n",
    "reunioesSemanais = {1:4,2:6,3:10,4:5,5:5,6:10}\n",
    "colaboradoresProjeto = {1:[1,3,4,8],2:[2,8],3:[3,7],4:[4],5:[5,7],6:[6,8,5]}\n",
    "lider = {1:1, 2:2,3:3,4:4,5:5,6:6}\n",
    "\n",
    "disponibilidade = {}\n",
    "\n",
    "for i in range(1,9):\n",
    "    disponibilidade[i] =[(1,1), (1,2), (1,3), (1,4), (1,5), (2,1), (2,2), (2,3), (2,4), (2,5), (3,1), (3,2), (3,3), (3,4), (3,5), (4,1), (4,2), (4,3), (4,4), (4,5)]\n",
    "\n",
    "constroiHorario (reunioesSemanais, colaboradoresProjeto, lider , disponibilidade)\n"
   ]
  },
  {
   "cell_type": "code",
   "execution_count": null,
   "metadata": {},
   "outputs": [],
   "source": []
  }
 ],
 "metadata": {
  "kernelspec": {
   "display_name": "Python 3",
   "language": "python",
   "name": "python3"
  },
  "language_info": {
   "codemirror_mode": {
    "name": "ipython",
    "version": 3
   },
   "file_extension": ".py",
   "mimetype": "text/x-python",
   "name": "python",
   "nbconvert_exporter": "python",
   "pygments_lexer": "ipython3",
   "version": "3.8.3"
  }
 },
 "nbformat": 4,
 "nbformat_minor": 4
}
