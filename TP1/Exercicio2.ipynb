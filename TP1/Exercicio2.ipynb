{
 "cells": [
  {
   "cell_type": "markdown",
   "metadata": {},
   "source": [
    "<h2>Trabalho Realizado Por:</h2>\n",
    "<br>\n",
    "Carlos Ferreira - a87953\n",
    "<br>\n",
    "Daniel Ribeiro - a87994\n",
    "\n",
    "<h2>Exercício 2</h2>\n",
    "\n",
    "\n",
    "a) Provar que não existe solução do problema, usando  Z3 em \n",
    "<br>\n",
    "    \n",
    "\n",
    "<b>i.Lógica Proposicional:</b>\n",
    "\n",
    "<br>\n",
    "A variável $x_{p,pl}$ determina se o pombo p está no poleiro pl\n",
    "<br>\n",
    "O número total de pombos será P e o número total de poleiros será Pl = P-1\n",
    "\n",
    "<br>\n",
    "Cada pombo p tem de estar em um poleiro pl:\n",
    "$$\n",
    "\\forall_{p < P} \\quad \\bigvee_{pl=0}^{Pl-1} x_{p,pl}\n",
    "$$\n",
    "\n",
    "\n",
    "Cada poleiro apenas contém 1 pombo:\n",
    "$$\n",
    "\\forall_{pl < Pl} \\quad  ( \\quad  \\bigwedge_{p=0}^{P-1} x_{p,pl} \\rightarrow  \\bigwedge_{p'=p+1}^{P-1} \\neg x_{p',pl}  \\quad)\n",
    "$$"
   ]
  },
  {
   "cell_type": "code",
   "execution_count": 1,
   "metadata": {
    "scrolled": true
   },
   "outputs": [],
   "source": [
    "from z3 import *\n",
    "from timeit import timeit\n",
    "import matplotlib.pyplot as plt\n",
    "\n",
    "def pombos (N):\n",
    "    \n",
    "    s = Solver()\n",
    "    o = 0\n",
    "    r = {}\n",
    "    \n",
    "    if N > 0:\n",
    "        \n",
    "        for pombo in range (N):\n",
    "            \n",
    "            r [pombo] = {}\n",
    "            o+=1\n",
    "            for poleiro in range (N-1):\n",
    "                \n",
    "                r[pombo][poleiro] = Bool (\"pombo \" + str(pombo) + \" esta no poleiro \" + str(poleiro))\n",
    "                o += 1\n",
    "                    \n",
    "        # N² - N + N ≈ O(N²)\n",
    "        \n",
    "        for pombo in range(N):\n",
    "            o = o + N - 1\n",
    "            s.add(Or([r[pombo][poleiro] for poleiro in range(N-1)])) # pombo tem que estar num poleiro\n",
    "            \n",
    "        # N² - N ≈ O(N²)\n",
    "                \n",
    "        for poleiro in range(N-1):\n",
    "            for pombo in range(N):\n",
    "                o = o + N - pombo + 1\n",
    "                s.add(Implies(r[pombo][poleiro],And([Not(r[j][poleiro]) for j in range (pombo + 1,N)]))) # cada poleiro contem apenas 1 pombo\n",
    "         # (N - 1) * N * N/2 = (N² - N) * N/2 = N³/2 - N²/2 ≈ O(N³)\n",
    "        \n",
    "        if s.check() == sat:\n",
    "            m = s.model()\n",
    "            print (\"Possivel\")\n",
    "        else:\n",
    "            print (\"Nao possivel\")\n",
    "            print (\"Nº de operações:\" + str(o))\n",
    "       \n",
    "    else:\n",
    "        \n",
    "        print (\"Valor de n tem de ser maior de 0\")\n",
    "    \n",
    "    return o\n",
    "    \n",
    "\n",
    "\n"
   ]
  },
  {
   "cell_type": "code",
   "execution_count": 2,
   "metadata": {
    "scrolled": true
   },
   "outputs": [
    {
     "name": "stdout",
     "output_type": "stream",
     "text": [
      "Valor de n tem de ser maior de 0\n",
      "Nao possivel\n",
      "Nº de operações:1\n",
      "Nao possivel\n",
      "Nº de operações:11\n",
      "Nao possivel\n",
      "Nº de operações:33\n",
      "Nao possivel\n",
      "Nº de operações:70\n",
      "Nao possivel\n",
      "Nº de operações:125\n",
      "Nao possivel\n",
      "Nº de operações:201\n",
      "Nao possivel\n",
      "Nº de operações:301\n",
      "Nao possivel\n",
      "Nº de operações:428\n",
      "Nao possivel\n",
      "Nº de operações:585\n"
     ]
    }
   ],
   "source": [
    "#Vamos testar para os exemplos com o numero de pombos = 6 e numero de pombos = 8:\n",
    "\n",
    "for i in range (10):\n",
    "    pombos(i)    \n",
    "    "
   ]
  },
  {
   "cell_type": "markdown",
   "metadata": {},
   "source": [
    "<b>ii. Provar que não existe solução usando lógica inteira linear:</b>\n",
    "\n",
    "Existem N pombos  e N-1 poleiros de pombos. Cada pombo ocupa totalmente um poleiro. \n",
    "Pretende-se alocar cada pombo a um poleiro próprio.\n",
    "<br>\n",
    "<br>\n",
    "$$\n",
    "\\left\\{\n",
    "\\begin{array}{l}\n",
    "Pombos = N\\\\\n",
    "Poleiros = N-1\\\\\n",
    "0 \\leq x_{pombo,poleiro} \\leq 1 , \\quad \\text{onde ( $x_{pombo,poleiro}$ = 1) <=> pombo esta no poleiro}\\\\\n",
    "\\end{array}\n",
    "\\right.\n",
    "$$\n",
    "<br>\n",
    "Como todos os pombos estão obrigatoriamente num poleiro:\n",
    "<br>\n",
    "$$\n",
    "\\sum_{pombo < N,poleiro < N - 1} x_{pombo,poleiro} = N\n",
    "$$\n",
    "<br>\n",
    "Cada poleiro so pode ter 1 pombo ou nenhum:\n",
    "<br>\n",
    "$$\n",
    "\\forall_{poleiro < N - 1} \\quad \\sum_{pombo < N} x_{pombo,poleiro} \\leq 1\n",
    "$$\n",
    "\n",
    "\n",
    "\n",
    "<br>\n"
   ]
  },
  {
   "cell_type": "code",
   "execution_count": 3,
   "metadata": {
    "scrolled": true
   },
   "outputs": [],
   "source": [
    "def pombos_inteiro_linear (N):\n",
    "    \n",
    "    o = 0\n",
    "    if N > 0:\n",
    "        \n",
    "        X = {} # poleiro do pombo respetivo\n",
    "        \n",
    "        for pombo in range (N):\n",
    "            X[pombo] = {}\n",
    "            o+=1\n",
    "            for poleiro in range (N - 1):\n",
    "                X[pombo][poleiro] = Int (\"pombo esta no poleiro \" + str(poleiro))\n",
    "                o+=1\n",
    "                \n",
    "        # N² - N + N ≈ O(N²)  \n",
    "\n",
    "        s = Solver()\n",
    "        \n",
    "        # como todos os pombos têm que estar num poleiro o somatario tem que dar N\n",
    "\n",
    "        s.add(Sum([X[p][pol] for p in range (N) for pol in range (N-1)]) == N) # N² - N ≈ O(N²) \n",
    "        o += N * (N-1)\n",
    "        \n",
    "        # cada poleiro pode ter 0 ou nehum 1 passaros\n",
    "        \n",
    "        for poleiro in range (N - 1) :\n",
    "                s.add(Sum([X[pombo][poleiro] for pombo in range (N)]) <= 1)\n",
    "                o += N\n",
    "\n",
    "        # N² - N ≈ O(N²) \n",
    "\n",
    "        r = s.check()\n",
    "    \n",
    "        if r==sat :\n",
    "            m = s.model()\n",
    "            print(\"Possivel:\")\n",
    "        else: \n",
    "            print(\"Nao possivel\")\n",
    "            print (\"Nº de operações:\" + str(o))\n",
    "    else:\n",
    "        \n",
    "        print (\"Valor de n tem de ser maior de 0\")\n",
    "                \n",
    "    return o"
   ]
  },
  {
   "cell_type": "code",
   "execution_count": 4,
   "metadata": {
    "scrolled": true
   },
   "outputs": [
    {
     "name": "stdout",
     "output_type": "stream",
     "text": [
      "Valor de n tem de ser maior de 0\n",
      "Nao possivel\n",
      "Nº de operações:1\n",
      "Nao possivel\n",
      "Nº de operações:8\n",
      "Nao possivel\n",
      "Nº de operações:21\n",
      "Nao possivel\n",
      "Nº de operações:40\n",
      "Nao possivel\n",
      "Nº de operações:65\n",
      "Nao possivel\n",
      "Nº de operações:96\n",
      "Nao possivel\n",
      "Nº de operações:133\n",
      "Nao possivel\n",
      "Nº de operações:176\n",
      "Nao possivel\n",
      "Nº de operações:225\n"
     ]
    }
   ],
   "source": [
    "#Vamos testar alguns exemplos:\n",
    "\n",
    "for i in range (10):\n",
    "    pombos_inteiro_linear(i)    \n",
    "\n",
    "    "
   ]
  },
  {
   "cell_type": "markdown",
   "metadata": {},
   "source": [
    "B) Analisar a complexidade de cada uma das provas em função de $N$ de forma empírica. Como sugestão pode começar por fazer um “plot” do tempo de execução"
   ]
  },
  {
   "cell_type": "code",
   "execution_count": 5,
   "metadata": {
    "scrolled": false
   },
   "outputs": [],
   "source": [
    "import sys, os\n",
    "\n",
    "# Disable\n",
    "def blockPrint():\n",
    "    sys.stdout = open(os.devnull, 'w')\n",
    "\n",
    "# Restore\n",
    "def enablePrint():\n",
    "    sys.stdout = sys.stdout\n",
    "\n",
    "\n",
    "\n",
    "blockPrint()\n",
    "\n",
    "import numpy as np\n",
    "\n",
    "\n",
    "def graph(formula, x_range , l ):\n",
    "    x = np.array(x_range)\n",
    "    y = eval(formula)\n",
    "    plt.plot(x, y ,label = l)\n",
    "    \n",
    "\n",
    "def tempos (n, f):\n",
    "    \n",
    "    t = []\n",
    "    \n",
    "    for i in range (1,n+1):\n",
    "    \n",
    "        time = timeit(setup=\"from __main__ import \" + f ,\\\n",
    "                stmt= f +\"(\"+ str(i) +\")\",number=1)\n",
    "        t.append(time)\n",
    "        \n",
    "    return t\n",
    "\n",
    "\n",
    "\n",
    "\n",
    "\n",
    "\n",
    "\n"
   ]
  },
  {
   "cell_type": "markdown",
   "metadata": {},
   "source": [
    "<h2><b>Análise</b></h2>\n",
    "\n",
    "<h4><b>I) Lógica Proposicional</b></h4>\n",
    "A função pombos , pelo método de lógica proposicional tem complexidade assimptótica O(N³) , é possivel verificar com a contagem das operações efetuadas em cada chamada da função que estas se aproximam graficamente de n³ , mas também com as aproximações que fizemos ao longo das funções do que poderia ser o valor polinomial de operações efetuadas a cada conjunto de ciclos iterativos.\n",
    "\n",
    "<b> Melhor caso :</b>  n < 1 , n sendo número de pombos   O(1)\n",
    "\n",
    "<b> Pior caso :</b>  n $\\geq$ 1 , n sendo número de pombos     O(N³)\n",
    "\n",
    "\n",
    "\n"
   ]
  },
  {
   "cell_type": "code",
   "execution_count": 6,
   "metadata": {},
   "outputs": [
    {
     "data": {
      "image/png": "[encoded data removed]",
      "text/plain": [
       "<Figure size 432x288 with 1 Axes>"
      ]
     },
     "metadata": {
      "needs_background": "light"
     },
     "output_type": "display_data"
    },
    {
     "data": {
      "image/png": "[encoded data removed]",
      "text/plain": [
       "<Figure size 432x288 with 1 Axes>"
      ]
     },
     "metadata": {
      "needs_background": "light"
     },
     "output_type": "display_data"
    }
   ],
   "source": [
    "t1 = tempos (10,\"pombos\" )\n",
    "n = range (1,11)\n",
    "plt.plot(n, t1, 'r')\n",
    "plt.xlabel('n pombos')\n",
    "plt.ylabel('tempo em sec')\n",
    "plt.show()\n",
    "\n",
    "\n",
    "\n",
    "l = []\n",
    "for i in range (10):\n",
    "    l.append(pombos(i))\n",
    "\n",
    "plt.plot(n, l,'r', label = \"pombos\")\n",
    "plt.xlabel('n pombos')\n",
    "plt.ylabel('operações')\n",
    "graph('x**3', range(1, 10) , \"n³\")\n",
    "graph('x**2', range(1, 11) , \"n²\")\n",
    "plt.legend(loc=\"upper left\")\n",
    "plt.show()"
   ]
  },
  {
   "cell_type": "markdown",
   "metadata": {},
   "source": [
    "<h4><b>II) Lógica Inteiro Linear</b></h4>\n",
    "A função pombos_inteiro_linear , pelo método de lógica linear inteira tem complexidade assimptótica O(N²) , e tal como a função anterior, é possivel verificar com a contagem das operações e com as estimativas que efetuamos do possível número de operações.\n",
    "\n",
    "<b> Melhor caso :</b>  n < 1 , n sendo número de pombos   O(1)\n",
    "\n",
    "<b> Pior caso :</b>  n $\\geq$ 1 , n sendo número de pombos     O(N²)"
   ]
  },
  {
   "cell_type": "code",
   "execution_count": 7,
   "metadata": {},
   "outputs": [
    {
     "data": {
      "image/png": "[encoded data removed]",
      "text/plain": [
       "<Figure size 432x288 with 1 Axes>"
      ]
     },
     "metadata": {
      "needs_background": "light"
     },
     "output_type": "display_data"
    },
    {
     "data": {
      "image/png": "[encoded data removed]",
      "text/plain": [
       "<Figure size 432x288 with 1 Axes>"
      ]
     },
     "metadata": {
      "needs_background": "light"
     },
     "output_type": "display_data"
    }
   ],
   "source": [
    "t2 = tempos (30,\"pombos_inteiro_linear\" )\n",
    "n = range (1,31)\n",
    "plt.plot(n, t2, 'r')\n",
    "plt.xlabel('n pombos')\n",
    "plt.ylabel('tempo em sec')\n",
    "plt.show()\n",
    "\n",
    "\n",
    "\n",
    "\n",
    "l = []\n",
    "for i in range (30):\n",
    "    l.append(pombos_inteiro_linear(i))\n",
    "\n",
    "plt.plot(n, l,'r', label = \"pombos_inteiro_linear\")\n",
    "plt.xlabel('n pombos')\n",
    "plt.ylabel('operações')\n",
    "graph('x**3', range(1, 30) , \"n³\")\n",
    "graph('x**2', range(1, 31) , \"n²\")\n",
    "plt.legend(loc=\"upper left\")\n",
    "plt.show()"
   ]
  },
  {
   "cell_type": "markdown",
   "metadata": {},
   "source": [
    "<h4><b>III)Comparações</b></h4>\n",
    "\n",
    "É possível perceber que a lógica inteira linear é a mais eficaz na resolução do problema “pigeon hole principle” (PHP), devido ao seu grau de complexidade ser bem menor que a lógica proposicional , executando em tempos muito inferiores do que a sua concorrente."
   ]
  },
  {
   "cell_type": "code",
   "execution_count": 8,
   "metadata": {},
   "outputs": [
    {
     "data": {
      "image/png": "[encoded data removed]",
      "text/plain": [
       "<Figure size 432x288 with 1 Axes>"
      ]
     },
     "metadata": {
      "needs_background": "light"
     },
     "output_type": "display_data"
    }
   ],
   "source": [
    "l = []\n",
    "for i in range (20):\n",
    "    t1.append(None)\n",
    "\n",
    "\n",
    "plt.plot(n, t1, 'r', label = \"Lógica Proposicional\") \n",
    "plt.plot(n, t2, 'b', label = \"Lógica Inteiro Linear\") \n",
    "plt.legend(loc=\"upper left\")\n",
    "plt.xlabel('n pombos')\n",
    "plt.ylabel('tempo em sec')\n",
    "plt.show()\n",
    "\n",
    "\n",
    "\n"
   ]
  },
  {
   "cell_type": "code",
   "execution_count": null,
   "metadata": {},
   "outputs": [],
   "source": []
  }
 ],
 "metadata": {
  "kernelspec": {
   "display_name": "Python 3",
   "language": "python",
   "name": "python3"
  },
  "language_info": {
   "codemirror_mode": {
    "name": "ipython",
    "version": 3
   },
   "file_extension": ".py",
   "mimetype": "text/x-python",
   "name": "python",
   "nbconvert_exporter": "python",
   "pygments_lexer": "ipython3",
   "version": "3.8.3"
  }
 },
 "nbformat": 4,
 "nbformat_minor": 4
}
